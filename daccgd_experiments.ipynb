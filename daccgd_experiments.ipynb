{
 "cells": [
  {
   "cell_type": "code",
   "execution_count": null,
   "metadata": {
    "colab": {},
    "colab_type": "code",
    "id": "9jcDHlTtzZOy"
   },
   "outputs": [],
   "source": [
    "## Python libs\n",
    "\n",
    "import math\n",
    "import torch\n",
    "import pickle\n",
    "import warnings\n",
    "import numpy as np\n",
    "import random\n",
    "\n",
    "import matplotlib.pyplot as plt\n",
    "%matplotlib inline\n",
    "\n",
    "from pathlib import Path\n",
    "from sklearn.datasets import load_svmlight_file\n",
    "\n",
    "warnings.simplefilter('ignore')"
   ]
  },
  {
   "cell_type": "code",
   "execution_count": null,
   "metadata": {
    "colab": {
     "base_uri": "https://localhost:8080/",
     "height": 121
    },
    "colab_type": "code",
    "id": "MD6Up0Lj0Lb4",
    "outputId": "4882a47f-0e99-4a7f-e838-6c5baa7cdba3"
   },
   "outputs": [],
   "source": [
    "COLAB = False\n",
    "\n",
    "## There must be data 'data.zip' on google drive\n",
    "## (in directory specified by 'GDDIR')\n",
    "GDDIR = 'uploads/rogozin'\n",
    "\n",
    "if COLAB:\n",
    "    from google.colab import drive\n",
    "    drive.mount('/content/gdrive')\n",
    "\n",
    "    !cp -r /content/gdrive/My\\ Drive/{GDDIR} .\n",
    "    !unzip -qn {Path(GDDIR).name}/data.zip\n",
    "    !bunzip2 data/*.bz2\n",
    "\n",
    "    !git clone https://github.com/alexrogozin12/decentralized_methods.git\n",
    "    !mv decentralized_methods/* .\n",
    "    !rm decentralized_methods -rf\n",
    "    !sed -ri '8d' src/utils.py"
   ]
  },
  {
   "cell_type": "markdown",
   "metadata": {
    "colab_type": "text",
    "deletable": false,
    "editable": false,
    "id": "ORqFnwUjzZOx",
    "run_control": {
     "frozen": true
    }
   },
   "source": [
    "# DGM Minimal Environment "
   ]
  },
  {
   "cell_type": "code",
   "execution_count": null,
   "metadata": {
    "colab": {},
    "colab_type": "code",
    "id": "9jcDHlTtzZOy"
   },
   "outputs": [],
   "source": [
    "## Local libs\n",
    "\n",
    "from src.objectives import ( \n",
    "    LeastSquares, LogRegression,\n",
    "    StochLeastSquares, StochLogRegression)\n",
    "from src.methods import (\n",
    "    EXTRA, DIGing, DSGD,\n",
    "    DAccGD, Mudag, APM_C,\n",
    "    SMudag, SAPM_C)\n",
    "from src.utils import PythonGraph, lambda_2, expected_lambda2\n",
    "\n",
    "def name_corrector(names):\n",
    "    corrected_names = []\n",
    "    for name in names:\n",
    "        if name[0] == 'S': new_name = name[1:]\n",
    "        else: new_name = name\n",
    "            \n",
    "        if new_name in names: new_name = name \n",
    "        new_name = new_name.replace('_', '-')\n",
    "        \n",
    "        corrected_names.append(new_name)\n",
    "    return corrected_names"
   ]
  },
  {
   "cell_type": "code",
   "execution_count": null,
   "metadata": {
    "colab": {},
    "colab_type": "code",
    "id": "Tkh45M9rzZPG"
   },
   "outputs": [],
   "source": [
    "# TASK = StochLeastSquares\n",
    "GRAPH_EVOLUTION = False\n",
    "TASK = StochLogRegression \n",
    "\n",
    "DDIR = 'logreg_solutions' if 'LogRegression' in TASK.__name__ else 'least_squares_solutions' \n",
    "DSDIR = Path('data/a9a')\n",
    "DDIR = Path(DDIR)\n",
    "\n",
    "num_nodes = 20\n",
    "device = torch.device('cuda' if torch.cuda.is_available() else 'cpu')\n",
    "soldir = DDIR / DSDIR.name\n",
    "\n",
    "A, b = load_svmlight_file(str(DSDIR))\n",
    "\n",
    "A_cpu = torch.Tensor(A.todense())\n",
    "b_cpu = torch.Tensor(b)\n",
    "\n",
    "A = A_cpu.to(device)\n",
    "b = b_cpu.to(device)"
   ]
  },
  {
   "cell_type": "code",
   "execution_count": null,
   "metadata": {},
   "outputs": [],
   "source": [
    "fnum = 0\n",
    "fname = list(soldir.iterdir())[fnum].name\n",
    "sigma = float(fname.split('=')[1])\n",
    "\n",
    "with open(soldir/fname, 'rb') as file:\n",
    "    f_star = pickle.load(file)['func_star']"
   ]
  },
  {
   "cell_type": "code",
   "execution_count": null,
   "metadata": {
    "colab": {},
    "colab_type": "code",
    "id": "QVD5IJ0HzZPP"
   },
   "outputs": [],
   "source": [
    "# For simulating a graph evolution,\n",
    "# only graphs like 'erdos_renyi' and 'random_geometric' are appropriate\n",
    "\n",
    "p = .68\n",
    "graph = 'random_geometric'\n",
    "# graph = 'erdos_renyi'\n",
    "# graph = 'path'\n",
    "# graph = 'cycle'\n",
    "# graph = 'complete'\n",
    "\n",
    "avg = 1\n",
    "static = True\n",
    "bs = 10  # < ----------- NUMBER OF RANDOMLY SELECTED ROWS IN THE MATRIX\n",
    "\n",
    "batch_sizes = b.new_full((num_nodes,), bs).long()\n",
    "\n",
    "args = [A, b, num_nodes, sigma]\n",
    "if 'Stoch' in TASK.__name__:\n",
    "    args += [avg, batch_sizes, static]\n",
    "\n",
    "\n",
    "F = TASK(*args)\n",
    "F_cpu = TASK(*args)\n",
    "X0 = torch.zeros(num_nodes, A.size(1)).to(device)"
   ]
  },
  {
   "cell_type": "code",
   "execution_count": null,
   "metadata": {
    "colab": {},
    "colab_type": "code",
    "id": "QVD5IJ0HzZPP"
   },
   "outputs": [],
   "source": [
    "if GRAPH_EVOLUTION:\n",
    "    gen = lambda : PythonGraph(F, graph, p).gen()[1]\n",
    "    _gen = lambda: PythonGraph(F_cpu, graph, p).gen()[1]\n",
    "    E_s2,_ = expected_lambda2(_gen, 6000)\n",
    "else:\n",
    "    W = PythonGraph(F, graph, p).gen()[1]\n",
    "    s2 = lambda_2(W)\n",
    "\n",
    "####\n",
    "# Fixing seed doesn't really make a difference\n",
    "####\n",
    "# torch.manual_seed(123)  #  I don't remember whether I use torch random numbers anywhere\n",
    "# random.seed(123)  #  networkx depends on lib random\n",
    "# graphs = [PythonGraph(F, graph, p).gen()[1] for _ in range(int(1e4))]\n",
    "\n",
    "# class GraphEvolution:\n",
    "#     def __init__(self, graphs):\n",
    "#         self.gi = iter(graphs)\n",
    "        \n",
    "#     def __call__(self):\n",
    "#         return next(self.gi)"
   ]
  },
  {
   "cell_type": "code",
   "execution_count": null,
   "metadata": {},
   "outputs": [],
   "source": [
    "L = torch.svd(A)[1][0] ** 2 / (4*len(A))\n",
    "kappa_g = torch.svd(F.A)[1][:, 0].mean() / sigma\n",
    "\n",
    "consensus_iters = 4  # < --------------- HERE IS CONSENSUS ITERS \n",
    "eta_scale = 130\n",
    "gamma_scale = 1.5\n",
    "beta = 1e-6\n",
    "\n",
    "M = (1-1e-5)*L*math.exp(consensus_iters*math.sqrt(1-s2)) / kappa_g"
   ]
  },
  {
   "cell_type": "code",
   "execution_count": null,
   "metadata": {
    "colab": {},
    "colab_type": "code",
    "id": "QVD5IJ0HzZPP"
   },
   "outputs": [],
   "source": [
    "if GRAPH_EVOLUTION:\n",
    "    opt = SDAccGD(F, gen, L=L, mu=sigma, con_iters=consensus_iters)\n",
    "else:\n",
    "    opt = DAccGD(F, W, L=L, mu=sigma, M=M, kappa_g=kappa_g, scale=1.)\n",
    "\n",
    "checkpoint = [X0]"
   ]
  },
  {
   "cell_type": "code",
   "execution_count": null,
   "metadata": {},
   "outputs": [],
   "source": [
    "#%%time\n",
    "## Running the cell X times yields X * n_iters optimization steps of each optimizer\n",
    "## (if n_iters is not redefined during it). To run from scratch,\n",
    "## execute the cell with optimizers' initialization first\n",
    "\n",
    "n_iters = 1000\n",
    "\n",
    "X0, *args = checkpoint\n",
    "checkpoint = opt.run(X0, *args, n_iters=n_iters);"
   ]
  },
  {
   "cell_type": "code",
   "execution_count": null,
   "metadata": {
    "colab": {},
    "colab_type": "code",
    "id": "D-NO2bdazZPX"
   },
   "outputs": [],
   "source": [
    "fig, axes = plt.subplots(1, 2, figsize=(12, 6))\n",
    "\n",
    "XLIM = opt.logs['nmix'][-1]\n",
    "span = np.searchsorted(opt.logs['nmix'], XLIM, 'right')\n",
    "axes[0].plot(\n",
    "    opt.logs['nmix'][:span], \n",
    "    abs(opt.logs['fn'][:span] - f_star),\n",
    "    marker=6, markevery=span//10)\n",
    "    \n",
    "axes[0].set_ylabel(r'$f(\\overline{x}_k) - f^*$', size=15)\n",
    "axes[0].set_xlabel('communication steps', size=15)\n",
    "\n",
    "\n",
    "span = np.searchsorted(opt.logs['nmix'], XLIM, 'right')\n",
    "axes[1].plot(\n",
    "    opt.logs['nmix'][:span],\n",
    "    opt.logs['dist2con'][:span],\n",
    "    marker=6, markevery=span//10)\n",
    "\n",
    "axes[1].set_ylabel(r'$||(I-\\frac{1}{n}11^T)X||^2$', size=15)\n",
    "axes[1].set_xlabel('communication steps', size=15)\n",
    "\n",
    "\n",
    "for axis in axes:\n",
    "    axis.set_yscale('log')\n",
    "    axis.grid()\n",
    "\n",
    "# ylim(0, 1.2*opts[0].logs['fn'][0])\n",
    "plt.tight_layout();\n",
    "\n",
    "fname = f'{DSDIR.name}-{bs}bs-{consensus_iters}cons.png'\n",
    "if COLAB:\n",
    "    plt.savefig(fname)\n",
    "    !mv {fname} /content/gdrive/My\\ Drive/{GDDIR}/figures\n",
    "else:\n",
    "    !mkdir -p figures\n",
    "    plt.savefig(f'figures/{fname}')"
   ]
  }
 ],
 "metadata": {
  "accelerator": "GPU",
  "celltoolbar": "Initialization Cell",
  "colab": {
   "collapsed_sections": [],
   "name": "experiments.ipynb",
   "provenance": []
  },
  "kernelspec": {
   "display_name": "Python 3",
   "language": "python",
   "name": "python3"
  },
  "language_info": {
   "codemirror_mode": {
    "name": "ipython",
    "version": 3
   },
   "file_extension": ".py",
   "mimetype": "text/x-python",
   "name": "python",
   "nbconvert_exporter": "python",
   "pygments_lexer": "ipython3",
   "version": "3.8.5"
  },
  "toc": {
   "base_numbering": 1,
   "nav_menu": {},
   "number_sections": true,
   "sideBar": true,
   "skip_h1_title": false,
   "title_cell": "Table of Contents",
   "title_sidebar": "Contents",
   "toc_cell": false,
   "toc_position": {},
   "toc_section_display": true,
   "toc_window_display": false
  }
 },
 "nbformat": 4,
 "nbformat_minor": 4
}

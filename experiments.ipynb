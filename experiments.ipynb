{
 "cells": [
  {
   "cell_type": "code",
   "execution_count": null,
   "metadata": {
    "colab": {
     "base_uri": "https://localhost:8080/",
     "height": 121
    },
    "colab_type": "code",
    "id": "MD6Up0Lj0Lb4",
    "outputId": "4882a47f-0e99-4a7f-e838-6c5baa7cdba3"
   },
   "outputs": [],
   "source": [
    "## For colab runs\n",
    "# from google.colab import drive\n",
    "# drive.mount('/content/gdrive')\n",
    "\n",
    "# !mkdir -p data\n",
    "# !cp /content/gdrive/My\\ Drive/uploads/a9a.2 ./data # load this data to the specified dir on your drive first"
   ]
  },
  {
   "cell_type": "markdown",
   "metadata": {
    "colab_type": "text",
    "id": "ORqFnwUjzZOx"
   },
   "source": [
    "# DGM Minimal Environment "
   ]
  },
  {
   "cell_type": "markdown",
   "metadata": {},
   "source": [
    "TODO: Add to `dummy_consensus_variation` check of a graph connectedness"
   ]
  },
  {
   "cell_type": "code",
   "execution_count": null,
   "metadata": {
    "colab": {},
    "colab_type": "code",
    "id": "9jcDHlTtzZOy"
   },
   "outputs": [],
   "source": [
    "import torch\n",
    "import pickle\n",
    "import numpy as np\n",
    "import matplotlib.pyplot as plt\n",
    "%matplotlib inline\n",
    "\n",
    "from sklearn.datasets import load_svmlight_file\n",
    "from src.objectives import (\n",
    "    LeastSquares, LogRegression,\n",
    "    StochLeastSquares, StochLogRegression)\n",
    "from src.methods import EXTRA, DIGing, DAccGD, DSGD\n",
    "from src.utils import (\n",
    "    consensus_variation,\n",
    "    PythonGraph)\n",
    "\n",
    "# from src.sparse import objectives as obj"
   ]
  },
  {
   "cell_type": "code",
   "execution_count": null,
   "metadata": {
    "colab": {},
    "colab_type": "code",
    "id": "Tkh45M9rzZPG"
   },
   "outputs": [],
   "source": [
    "num_nodes = 20\n",
    "device = torch.device('cuda' if torch.cuda.is_available() else 'cpu')\n",
    "A, b = load_svmlight_file('data/a9a')\n",
    "A = torch.Tensor(A.todense()).to(device)\n",
    "b = torch.Tensor(b).to(device)"
   ]
  },
  {
   "cell_type": "code",
   "execution_count": null,
   "metadata": {
    "colab": {},
    "colab_type": "code",
    "id": "QVD5IJ0HzZPP"
   },
   "outputs": [],
   "source": [
    "# For simulating a graph evolution,\n",
    "# only graphs like 'erdos_renyi' is appropriate\n",
    "\n",
    "p = .3\n",
    "graph = 'random_geometric'\n",
    "# graph = 'erdos_renyi'\n",
    "# graph = 'path'\n",
    "# graph = 'cycle'\n",
    "# graph = 'complete'\n",
    "\n",
    "F = LogRegression(A, b, num_nodes)\n",
    "Fs = StochLogRegression(A, b, num_nodes,)\n",
    "X0 = torch.zeros(num_nodes, A.size(1)).to(device)\n",
    "gen = PythonGraph(F, graph, p).gen\n",
    "# gen = lambda: dummy_consensus_variation(F, graph, p)\n",
    "# gen = lambda: (None, consensus_variation(F, p))\n",
    "\n",
    "opt1 = EXTRA(F, gen, alpha=1.)\n",
    "opt2 = DIGing(F, gen, alpha=1.)\n",
    "\n",
    "consensus_iters = 10\n",
    "opt3 = DAccGD(F, gen, L=.2, mu=0., T=consensus_iters)\n",
    "\n",
    "gen_ = lambda : gen()[1]\n",
    "opt4 = DSGD(Fs, gen_, alpha=4.)"
   ]
  },
  {
   "cell_type": "code",
   "execution_count": null,
   "metadata": {},
   "outputs": [],
   "source": [
    "%%time\n",
    "n_iters = 500\n",
    "opt1.run(X0, n_iters=n_iters);\n",
    "opt2.run(X0, n_iters=n_iters);\n",
    "opt3.run(X0, n_iters=n_iters // consensus_iters);\n",
    "# opt4.run(X0, n_iters=n_iters);\n",
    "\n",
    "opt3.logs['i'] = [item * consensus_iters for item in opt3.logs['i']]\n",
    "\n",
    "for opt in [opt1, opt2, opt3]:\n",
    "    for key in ['i', 'fn', 'dist2con']:\n",
    "        opt.logs[key] = np.array(opt.logs[key])"
   ]
  },
  {
   "cell_type": "code",
   "execution_count": null,
   "metadata": {},
   "outputs": [],
   "source": [
    "with open('./logreg_solutions/a9a/regcoef=0.00e+00', 'rb') as file:\n",
    "    f_star = pickle.load(file)['func_star']"
   ]
  },
  {
   "cell_type": "code",
   "execution_count": null,
   "metadata": {
    "colab": {},
    "colab_type": "code",
    "id": "D-NO2bdazZPX"
   },
   "outputs": [],
   "source": [
    "hist_len = 500\n",
    "\n",
    "plt.figure(figsize=(8, 8))\n",
    "plt.plot(opt1.logs['fn'][:hist_len] - f_star, label='EXTRA', marker='o', markevery=50)\n",
    "plt.plot(opt2.logs['fn'][:hist_len] - f_star, label='DIGing', marker='v', markevery=(25, 50))\n",
    "plt.plot(opt3.logs['i'][:hist_len // consensus_iters], \n",
    "         opt3.logs['fn'][:hist_len // consensus_iters] - f_star, \n",
    "         marker='x', markevery=10, label='DAccGD')\n",
    "# plt.plot(opt4.logs['fn'] - f_star, label='DSGD', marker='^', markevery=100)\n",
    "# plt.title('Optimization Functional Value over Iteration Number', size=20)\n",
    "plt.xlabel('communication steps', size=20)\n",
    "plt.ylabel(r'$f(\\overline{x}_k) - f^*$', size=20)\n",
    "plt.yscale('log')\n",
    "plt.grid()\n",
    "plt.legend();\n",
    "\n",
    "# plt.savefig('../Decentralized + inexactness/en/figures/a9a_residual.png')"
   ]
  },
  {
   "cell_type": "code",
   "execution_count": null,
   "metadata": {
    "colab": {},
    "colab_type": "code",
    "id": "WUEDQVuczZPd"
   },
   "outputs": [],
   "source": [
    "plt.figure(figsize=(8, 8))\n",
    "plt.plot(opt1.logs['dist2con'][:hist_len], label='EXTRA', marker='o', markevery=50)\n",
    "plt.plot(opt2.logs['dist2con'][:hist_len], label='DIGing', marker='v', markevery=(25, 50))\n",
    "plt.plot(opt3.logs['i'][:hist_len // consensus_iters], \n",
    "         opt3.logs['dist2con'][:hist_len // consensus_iters], \n",
    "         label='DAccGD', marker='x', markevery=10)\n",
    "# plt.plot(opt4.logs['dist2con'], label='DGSGD', marker='^', markevery=50)\n",
    "plt.yscale('log')\n",
    "plt.ylabel(r'$||(I-\\frac{1}{n}11^T)X||^2$', size=20)\n",
    "plt.xlabel('communication steps', size=20)\n",
    "plt.grid()\n",
    "plt.legend();\n",
    "\n",
    "# plt.savefig('../Decentralized + inexactness/en/figures/a9a_consensus.png')"
   ]
  },
  {
   "cell_type": "code",
   "execution_count": null,
   "metadata": {
    "colab": {},
    "colab_type": "code",
    "id": "IaH8GF1aBsmc"
   },
   "outputs": [],
   "source": []
  }
 ],
 "metadata": {
  "accelerator": "GPU",
  "celltoolbar": "Initialization Cell",
  "colab": {
   "collapsed_sections": [],
   "name": "experiments.ipynb",
   "provenance": []
  },
  "kernelspec": {
   "display_name": "Python 3",
   "language": "python",
   "name": "python3"
  },
  "language_info": {
   "codemirror_mode": {
    "name": "ipython",
    "version": 3
   },
   "file_extension": ".py",
   "mimetype": "text/x-python",
   "name": "python",
   "nbconvert_exporter": "python",
   "pygments_lexer": "ipython3",
   "version": "3.7.6"
  },
  "toc": {
   "base_numbering": 1,
   "nav_menu": {},
   "number_sections": true,
   "sideBar": true,
   "skip_h1_title": false,
   "title_cell": "Table of Contents",
   "title_sidebar": "Contents",
   "toc_cell": false,
   "toc_position": {},
   "toc_section_display": true,
   "toc_window_display": false
  }
 },
 "nbformat": 4,
 "nbformat_minor": 4
}

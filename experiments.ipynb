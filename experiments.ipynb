{
 "cells": [
  {
   "cell_type": "code",
   "execution_count": null,
   "metadata": {
    "colab": {
     "base_uri": "https://localhost:8080/",
     "height": 121
    },
    "colab_type": "code",
    "id": "MD6Up0Lj0Lb4",
    "outputId": "4882a47f-0e99-4a7f-e838-6c5baa7cdba3"
   },
   "outputs": [],
   "source": [
    "## For colab runs\n",
    "# from google.colab import drive\n",
    "# drive.mount('/content/gdrive')\n",
    "\n",
    "# !mkdir -p data\n",
    "# !cp /content/gdrive/My\\ Drive/uploads/a9a.2 ./data # load this data to the specified dir on your drive first"
   ]
  },
  {
   "cell_type": "markdown",
   "metadata": {
    "colab_type": "text",
    "id": "ORqFnwUjzZOx"
   },
   "source": [
    "# DGM Minimal Environment "
   ]
  },
  {
   "cell_type": "code",
   "execution_count": null,
   "metadata": {
    "colab": {},
    "colab_type": "code",
    "id": "9jcDHlTtzZOy"
   },
   "outputs": [],
   "source": [
    "import torch\n",
    "import pickle\n",
    "import warnings\n",
    "import numpy as np\n",
    "import matplotlib.pyplot as plt\n",
    "%matplotlib inline\n",
    "\n",
    "from sklearn.datasets import load_svmlight_file\n",
    "from src.objectives import ( \n",
    "    Objective,\n",
    "    LeastSquares, LogRegression,\n",
    "    StochLeastSquares, StochLogRegression)\n",
    "from src.methods import (\n",
    "    EXTRA, DIGing, MDAccGD,\n",
    "    DAccGD, Mudag, DSGD)\n",
    "from src.utils import PythonGraph\n",
    "\n",
    "# from src.sparse import objectives as obj\n",
    "warnings.simplefilter('ignore')"
   ]
  },
  {
   "cell_type": "code",
   "execution_count": null,
   "metadata": {
    "colab": {},
    "colab_type": "code",
    "id": "Tkh45M9rzZPG"
   },
   "outputs": [],
   "source": [
    "num_nodes = 20\n",
    "device = torch.device('cuda' if torch.cuda.is_available() else 'cpu')\n",
    "A, b = load_svmlight_file('data/a9a')\n",
    "A = torch.Tensor(A.todense()).to(device)\n",
    "b = torch.Tensor(b).to(device)"
   ]
  },
  {
   "cell_type": "code",
   "execution_count": null,
   "metadata": {
    "colab": {},
    "colab_type": "code",
    "id": "QVD5IJ0HzZPP"
   },
   "outputs": [],
   "source": [
    "# For simulating a graph evolution,\n",
    "# only graphs like 'erdos_renyi' is appropriate\n",
    "\n",
    "p = .65\n",
    "graph = 'random_geometric'\n",
    "# graph = 'erdos_renyi'\n",
    "# graph = 'path'\n",
    "# graph = 'cycle'\n",
    "# graph = 'complete'\n",
    "sigma = 1e-2\n",
    "\n",
    "F = LogRegression(A, b, num_nodes, sigma)\n",
    "Fs = StochLogRegression(A, b, num_nodes, sigma)\n",
    "X0 = torch.zeros(num_nodes, A.size(1)).to(device)\n",
    "gen = lambda : PythonGraph(F, graph, p).gen()[1]\n",
    "# gen = lambda: consensus_variation(F, p)\n",
    "\n",
    "opts = []\n",
    "opts.append(\n",
    "    EXTRA(F, gen, eta=12.))\n",
    "\n",
    "opts.append(\n",
    "    DIGing(F, gen, eta=12.))\n",
    "\n",
    "consensus_iters = 10\n",
    "opts.append(\n",
    "    DAccGD(F, gen, L=.035, mu=sigma, con_iters=consensus_iters))\n",
    "\n",
    "opts.append(\n",
    "    Mudag(F, gen, L=.035, mu=sigma, M=.2, kappa_g=1e8))\n",
    "\n",
    "opts.append(\n",
    "    MDAccGD(F, gen, L=.035, mu=sigma, M=.2, kappa_g=1e8))\n",
    "\n",
    "# M has almost no effect on the convergence"
   ]
  },
  {
   "cell_type": "code",
   "execution_count": null,
   "metadata": {},
   "outputs": [],
   "source": [
    "%%time\n",
    "n_iters = 100\n",
    "for opt in opts:\n",
    "    opt.run(X0, n_iters=n_iters//opt.con_iters);\n",
    "    opt.logs['nmix'] = np.array(opt.logs['i']) * opt.con_iters"
   ]
  },
  {
   "cell_type": "code",
   "execution_count": null,
   "metadata": {},
   "outputs": [],
   "source": [
    "with open('./logreg_solutions/a9a/regcoef=0.00e+00', 'rb') as file:\n",
    "    f_star = pickle.load(file)['func_star']"
   ]
  },
  {
   "cell_type": "code",
   "execution_count": null,
   "metadata": {
    "colab": {},
    "colab_type": "code",
    "id": "D-NO2bdazZPX"
   },
   "outputs": [],
   "source": [
    "# you can manually build an array which will define \n",
    "plt.figure(figsize=(8, 8))\n",
    "for i, opt in enumerate(opts):\n",
    "    lbl = opt.__class__.__name__\n",
    "    plt.plot(\n",
    "        opt.logs['nmix'], opt.logs['fn'] - f_star,\n",
    "        marker=i+5, label=lbl, markevery=n_iters//(5+i*3))\n",
    "    \n",
    "plt.title('Optimization Functional Value over Iteration Number', size=20)\n",
    "plt.ylabel(r'$f(\\overline{x}_k) - f^*$', size=20)\n",
    "plt.xlabel('communication steps', size=20)\n",
    "plt.yscale('log')\n",
    "plt.grid()\n",
    "plt.legend();\n",
    "\n",
    "# plt.savefig('../Decentralized + inexactness/en/figures/a9a_residual.png')"
   ]
  },
  {
   "cell_type": "code",
   "execution_count": null,
   "metadata": {
    "colab": {},
    "colab_type": "code",
    "id": "WUEDQVuczZPd"
   },
   "outputs": [],
   "source": [
    "plt.figure(figsize=(8, 8))\n",
    "for i, opt in enumerate(opts):\n",
    "    lbl = opt.__class__.__name__\n",
    "    plt.plot(\n",
    "        opt.logs['nmix'], opt.logs['dist2con'],\n",
    "        marker=i+5, label=lbl, markevery=n_iters//(5+i*3))\n",
    "\n",
    "plt.ylabel(r'$||(I-\\frac{1}{n}11^T)X||^2$', size=20)\n",
    "plt.xlabel('communication steps', size=20)\n",
    "plt.yscale('log')\n",
    "plt.legend()\n",
    "plt.grid();\n",
    "\n",
    "# plt.savefig('../Decentralized + inexactness/en/figures/a9a_consensus.png')"
   ]
  },
  {
   "cell_type": "code",
   "execution_count": null,
   "metadata": {
    "colab": {},
    "colab_type": "code",
    "id": "IaH8GF1aBsmc"
   },
   "outputs": [],
   "source": []
  }
 ],
 "metadata": {
  "accelerator": "GPU",
  "celltoolbar": "Initialization Cell",
  "colab": {
   "collapsed_sections": [],
   "name": "experiments.ipynb",
   "provenance": []
  },
  "kernelspec": {
   "display_name": "Python 3",
   "language": "python",
   "name": "python3"
  },
  "language_info": {
   "codemirror_mode": {
    "name": "ipython",
    "version": 3
   },
   "file_extension": ".py",
   "mimetype": "text/x-python",
   "name": "python",
   "nbconvert_exporter": "python",
   "pygments_lexer": "ipython3",
   "version": "3.8.5"
  },
  "toc": {
   "base_numbering": 1,
   "nav_menu": {},
   "number_sections": true,
   "sideBar": true,
   "skip_h1_title": false,
   "title_cell": "Table of Contents",
   "title_sidebar": "Contents",
   "toc_cell": false,
   "toc_position": {},
   "toc_section_display": true,
   "toc_window_display": false
  }
 },
 "nbformat": 4,
 "nbformat_minor": 4
}

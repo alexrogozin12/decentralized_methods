{
 "cells": [
  {
   "cell_type": "code",
   "execution_count": null,
   "metadata": {
    "colab": {
     "base_uri": "https://localhost:8080/",
     "height": 121
    },
    "colab_type": "code",
    "id": "MD6Up0Lj0Lb4",
    "outputId": "4882a47f-0e99-4a7f-e838-6c5baa7cdba3"
   },
   "outputs": [],
   "source": [
    "## For colab runs\n",
    "# from google.colab import drive\n",
    "# drive.mount('/content/gdrive')\n",
    "\n",
    "# !mkdir -p data\n",
    "# !cp /content/gdrive/My\\ Drive/uploads/a9a.2 ./data # load this data to the specified dir on your drive first"
   ]
  },
  {
   "cell_type": "markdown",
   "metadata": {
    "colab_type": "text",
    "id": "ORqFnwUjzZOx"
   },
   "source": [
    "# DGM Minimal Environment "
   ]
  },
  {
   "cell_type": "markdown",
   "metadata": {},
   "source": [
    "TODO: Add to `dummy_consensus_variation` check of a graph connectedness"
   ]
  },
  {
   "cell_type": "code",
   "execution_count": null,
   "metadata": {
    "colab": {},
    "colab_type": "code",
    "id": "9jcDHlTtzZOy"
   },
   "outputs": [],
   "source": [
    "import torch\n",
    "import matplotlib.pyplot as plt\n",
    "%matplotlib inline\n",
    "\n",
    "from sklearn.datasets import load_svmlight_file\n",
    "from src.objectives import LeastSquares, LogRegression\n",
    "from src.methods import EXTRON, DIGONing, DAGDON\n",
    "from src.utils import dummy_consensus_variation"
   ]
  },
  {
   "cell_type": "code",
   "execution_count": null,
   "metadata": {
    "colab": {},
    "colab_type": "code",
    "id": "Tkh45M9rzZPG"
   },
   "outputs": [],
   "source": [
    "device = torch.device('cuda' if torch.cuda.is_available() else 'cpu')\n",
    "A, b = load_svmlight_file('data/a9a')\n",
    "A = torch.Tensor(A.todense()).to(device)\n",
    "b = torch.Tensor(b).to(device)"
   ]
  },
  {
   "cell_type": "code",
   "execution_count": null,
   "metadata": {
    "colab": {},
    "colab_type": "code",
    "id": "QVD5IJ0HzZPP"
   },
   "outputs": [],
   "source": [
    "num_nodes = 15\n",
    "\n",
    "# For simulating a graph evolution,\n",
    "# only graphs like 'erdos_renyi' is appropriate\n",
    "\n",
    "p = .3\n",
    "graph = 'erdos_renyi'\n",
    "# graph = 'path'\n",
    "# graph = 'cycle'\n",
    "# graph = 'complete'\n",
    "\n",
    "F = LogRegression(A, b, num_nodes)\n",
    "X0 = torch.zeros(A.size(1), num_nodes).to(device)\n",
    "gen = lambda: dummy_consensus_variation(F, graph, p)\n",
    "\n",
    "opt1 = EXTRON(F, gen)\n",
    "opt2 = DIGONing(F, gen)\n",
    "opt3 = DAGDON(F, gen, L=.5, mu=0., T=20)"
   ]
  },
  {
   "cell_type": "code",
   "execution_count": null,
   "metadata": {},
   "outputs": [],
   "source": [
    "n_iters = 100\n",
    "opt1.run(X0, n_iters=n_iters);\n",
    "opt2.run(X0, n_iters=n_iters);\n",
    "opt3.run(X0, n_iters=n_iters);"
   ]
  },
  {
   "cell_type": "code",
   "execution_count": null,
   "metadata": {
    "colab": {},
    "colab_type": "code",
    "id": "D-NO2bdazZPX"
   },
   "outputs": [],
   "source": [
    "plt.figure(figsize=(8, 8))\n",
    "plt.plot(opt1.logs['fn'], label='EXTRA');\n",
    "plt.plot(opt2.logs['fn'], '--', label='DIGing');\n",
    "plt.plot(opt3.logs['fn'], label='AGD');\n",
    "plt.title('Optimization Functional Value over Iteration Number', size=20)\n",
    "plt.xlabel('# k', size=20)\n",
    "plt.ylabel('f(x)', size=20);\n",
    "plt.legend();"
   ]
  },
  {
   "cell_type": "code",
   "execution_count": null,
   "metadata": {
    "colab": {},
    "colab_type": "code",
    "id": "WUEDQVuczZPd"
   },
   "outputs": [],
   "source": [
    "plt.figure(figsize=(8, 8))\n",
    "plt.plot(opt1.logs['dist2con'], label='EXTRA');\n",
    "plt.plot(opt2.logs['dist2con'], '--', label='DIGing');\n",
    "plt.plot(opt3.logs['dist2con'], label='AGD');\n",
    "plt.title(r'$||X(I-11^T)||^2$', size=20)\n",
    "plt.xlabel('# k', size=20)\n",
    "plt.legend();"
   ]
  },
  {
   "cell_type": "code",
   "execution_count": null,
   "metadata": {
    "colab": {},
    "colab_type": "code",
    "id": "IaH8GF1aBsmc"
   },
   "outputs": [],
   "source": []
  }
 ],
 "metadata": {
  "accelerator": "GPU",
  "celltoolbar": "Initialization Cell",
  "colab": {
   "collapsed_sections": [],
   "name": "experiments.ipynb",
   "provenance": []
  },
  "kernelspec": {
   "display_name": "Python 3",
   "language": "python",
   "name": "python3"
  },
  "language_info": {
   "codemirror_mode": {
    "name": "ipython",
    "version": 3
   },
   "file_extension": ".py",
   "mimetype": "text/x-python",
   "name": "python",
   "nbconvert_exporter": "python",
   "pygments_lexer": "ipython3",
   "version": "3.8.5"
  },
  "toc": {
   "base_numbering": 1,
   "nav_menu": {},
   "number_sections": true,
   "sideBar": true,
   "skip_h1_title": false,
   "title_cell": "Table of Contents",
   "title_sidebar": "Contents",
   "toc_cell": false,
   "toc_position": {},
   "toc_section_display": true,
   "toc_window_display": false
  }
 },
 "nbformat": 4,
 "nbformat_minor": 1
}
